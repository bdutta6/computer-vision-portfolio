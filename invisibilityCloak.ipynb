{
 "cells": [
  {
   "cell_type": "code",
   "execution_count": 2,
   "metadata": {},
   "outputs": [],
   "source": [
    "import cv2\n",
    "import time\n",
    "import numpy as np"
   ]
  },
  {
   "cell_type": "code",
   "execution_count": 72,
   "metadata": {},
   "outputs": [],
   "source": [
    "# Add a preprocessing step to learn the color of the cloth you have\n",
    "# If you have an image already to analyse the color, proceed to next step. If you have a video, grab one or \n",
    "# a few frames and save it to disk for further analysis\n",
    "# If the input is the camera, pass 0 instead of the video file name\n",
    "cap = cv2.VideoCapture('output.avi')\n",
    " \n",
    "# Check if camera opened successfully\n",
    "if (cap.isOpened()== False): \n",
    "  print(\"Error opening video stream or file\")\n",
    " \n",
    "# Read until video is completed\n",
    "while(cap.isOpened()):\n",
    "# Capture frame-by-frame\n",
    "    ret, frame = cap.read()\n",
    "    if ret == True:\n",
    " \n",
    "        # Display the resulting frame\n",
    "        cv2.imshow('Frame',frame)\n",
    "        \n",
    "        # Filename\n",
    "        filename = 'savedImageForColorAnalysis2.jpg'\n",
    "  \n",
    "        # Using cv2.imwrite() method\n",
    "        # Saving the image\n",
    "        cv2.imwrite(filename, frame)\n",
    " \n",
    "        # Press Q on keyboard to  exit\n",
    "        if cv2.waitKey(25) & 0xFF == ord('q'):\n",
    "            break\n",
    " \n",
    "  # Break the loop\n",
    "    else: \n",
    "        break\n",
    " # When everything done, release the video capture object\n",
    "cap.release()\n",
    " \n",
    "# Closes all the frames\n",
    "cv2.destroyAllWindows()"
   ]
  },
  {
   "cell_type": "code",
   "execution_count": 73,
   "metadata": {},
   "outputs": [],
   "source": [
    "# Read the saved image and assess the color range of the cloth used\n",
    "\n",
    "clothImage = cv2.imread('savedImageForColorAnalysis2.jpg')\n",
    "\n",
    "# Select ROI\n",
    "r = cv2.selectROI(\"select the area\", clothImage)\n",
    " \n",
    "# Crop image\n",
    "cropped_image = clothImage[int(r[1]):int(r[1]+r[3]), \n",
    "                      int(r[0]):int(r[0]+r[2])]\n",
    "\n",
    "cv2.waitKey(0)\n",
    "# Closes all the frames\n",
    "cv2.destroyAllWindows()"
   ]
  },
  {
   "cell_type": "code",
   "execution_count": 11,
   "metadata": {},
   "outputs": [],
   "source": [
    "# Display cropped image\n",
    "cv2.imshow(\"Cropped image\", cropped_image)\n",
    "cv2.waitKey(0)\n",
    "# Closes all the frames\n",
    "cv2.destroyAllWindows()"
   ]
  },
  {
   "cell_type": "code",
   "execution_count": 85,
   "metadata": {},
   "outputs": [
    {
     "name": "stdout",
     "output_type": "stream",
     "text": [
      "[169  50 142]\n",
      "[172 255 255]\n"
     ]
    }
   ],
   "source": [
    "# Calculate the range of the color in the cloth ROI\n",
    "## Convert the color space from BGR to HSV\n",
    "clothhsv = cv2.cvtColor(cropped_image, cv2.COLOR_BGR2HSV)\n",
    "\n",
    "clothhsvarr= np.array(clothhsv)\n",
    "\n",
    "# Calculate the mean and standard deviation of the color hsv values for the given cloth\n",
    "#mean hue\n",
    "clothHueMean = np.mean(clothhsvarr[:,:,0])\n",
    "\n",
    "#mean saturation\n",
    "clothSatMean = np.mean(clothhsvarr[:,:,1])\n",
    "\n",
    "#mean value\n",
    "clothValMean = np.mean(clothhsvarr[:,:,2])\n",
    "\n",
    "#dev hue\n",
    "clothHueStd = np.std(clothhsvarr[:,:,0])\n",
    "\n",
    "#dev saturation\n",
    "clothSatStd = np.std(clothhsvarr[:,:,1])\n",
    "\n",
    "#dev value\n",
    "clothValStd = np.std(clothhsvarr[:,:,2])\n",
    "\n",
    "\n",
    "# Calculate the upper and lower limit based on 2 standard deviation around mean\n",
    "\n",
    "lowerColLim = (np.array([clothHueMean- 2*clothHueStd, 50, clothValMean - 2*clothValStd]))\\\n",
    "                .astype(np.int64)\n",
    "\n",
    "upperColLim = (np.array([clothHueMean + 2*clothHueStd, 255, 255]))\\\n",
    "                .astype(np.int64)\n",
    "\n",
    "print(lowerColLim)\n",
    "\n",
    "print(upperColLim)\n"
   ]
  },
  {
   "cell_type": "code",
   "execution_count": 86,
   "metadata": {},
   "outputs": [],
   "source": [
    "# For Debug\n",
    "lowerColLim = np.array([154, 50, 14])\n",
    "upperColLim = np.array([184, 255, 255])"
   ]
  },
  {
   "cell_type": "code",
   "execution_count": 87,
   "metadata": {},
   "outputs": [],
   "source": [
    "##reading from the webcam\n",
    "cap = cv2.VideoCapture(0)\n",
    "\n",
    "## Allow the system to sleep for 3 seconds before the webcam starts\n",
    "time.sleep(3)\n",
    "count = 0\n",
    "background = 0\n",
    "\n",
    "## Capture the background in range of 60\n",
    "for i in range(60):\n",
    "    ret, background = cap.read()\n",
    "background = np.flip(background, axis=1)"
   ]
  },
  {
   "cell_type": "code",
   "execution_count": 88,
   "metadata": {},
   "outputs": [],
   "source": [
    "## Preparation for writing the ouput video\n",
    "fourcc = cv2.VideoWriter_fourcc(*'XVID')\n",
    "out = cv2.VideoWriter('output.avi', fourcc, 20.0, (640, 480))"
   ]
  },
  {
   "cell_type": "code",
   "execution_count": 89,
   "metadata": {},
   "outputs": [],
   "source": [
    "## Read every frame from the webcam, until the camera is open\n",
    "while (cap.isOpened()):\n",
    "    ret, img = cap.read()\n",
    "    if not ret:\n",
    "        break\n",
    "    count += 1\n",
    "    \n",
    "    if count==1000:\n",
    "        break\n",
    "    img = np.flip(img, axis=1)\n",
    "\n",
    "    ## Convert the color space from BGR to HSV\n",
    "    hsv = cv2.cvtColor(img, cv2.COLOR_BGR2HSV)\n",
    "\n",
    "    ## Generate masks to detect red color- change the color to fit the cloth I have\n",
    "    '''\n",
    "    lower_red = np.array([0, 120, 50])\n",
    "    upper_red = np.array([10, 255,255])\n",
    "    mask1 = cv2.inRange(hsv, lower_red, upper_red)\n",
    "\n",
    "    lower_red = np.array([170, 120, 70])\n",
    "    upper_red = np.array([180, 255, 255])\n",
    "    mask2 = cv2.inRange(hsv, lower_red, upper_red)\n",
    "\n",
    "    mask1 = mask1 + mask2\n",
    "    '''\n",
    "    mask1 = cv2.inRange(hsv, lowerColLim, upperColLim)\n",
    "    \n",
    "    ## Open and Dilate the mask image\n",
    "    mask1 = cv2.morphologyEx(mask1, cv2.MORPH_OPEN, np.ones((3, 3), np.uint8))\n",
    "    mask1 = cv2.morphologyEx(mask1, cv2.MORPH_DILATE, np.ones((3, 3), np.uint8))\n",
    "\n",
    "    ## Create an inverted mask to segment out the red color from the frame\n",
    "    mask2 = cv2.bitwise_not(mask1)\n",
    "\n",
    "    ## Segment the red color part out of the frame using bitwise and with the inverted mask\n",
    "    res1 = cv2.bitwise_and(img, img, mask=mask2)\n",
    "\n",
    "    ## Create image showing static background frame pixels only for the masked region\n",
    "    res2 = cv2.bitwise_and(background, background, mask=mask1)\n",
    "\n",
    "    ## Generating the final output and writing\n",
    "    finalOutput = cv2.addWeighted(res1, 1, res2, 1, 0)\n",
    "    out.write(finalOutput)\n",
    "    cv2.imshow(\"magic\", finalOutput)\n",
    "    cv2.waitKey(1)\n",
    "\n",
    "\n",
    "\n"
   ]
  },
  {
   "cell_type": "code",
   "execution_count": 84,
   "metadata": {},
   "outputs": [],
   "source": [
    "cap.release()\n",
    "out.release()\n",
    "cv2.destroyAllWindows()"
   ]
  },
  {
   "cell_type": "code",
   "execution_count": null,
   "metadata": {},
   "outputs": [],
   "source": []
  }
 ],
 "metadata": {
  "kernelspec": {
   "display_name": "Python 3",
   "language": "python",
   "name": "python3"
  },
  "language_info": {
   "codemirror_mode": {
    "name": "ipython",
    "version": 3
   },
   "file_extension": ".py",
   "mimetype": "text/x-python",
   "name": "python",
   "nbconvert_exporter": "python",
   "pygments_lexer": "ipython3",
   "version": "3.6.10"
  }
 },
 "nbformat": 4,
 "nbformat_minor": 4
}
